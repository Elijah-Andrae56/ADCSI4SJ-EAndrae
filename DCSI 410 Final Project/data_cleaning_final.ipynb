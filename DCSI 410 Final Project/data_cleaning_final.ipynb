{
 "cells": [
  {
   "metadata": {
    "ExecuteTime": {
     "end_time": "2024-05-24T00:37:45.419880Z",
     "start_time": "2024-05-24T00:37:36.653857Z"
    }
   },
   "cell_type": "code",
   "source": "import pandas as pd",
   "id": "60ada5264138635f",
   "outputs": [],
   "execution_count": 1
  },
  {
   "cell_type": "code",
   "id": "initial_id",
   "metadata": {
    "collapsed": true,
    "ExecuteTime": {
     "end_time": "2024-05-24T00:37:50.533074Z",
     "start_time": "2024-05-24T00:37:45.419880Z"
    }
   },
   "source": [
    "cad_data = r\"C:\\Users\\User\\Documents\\Class Stuff\\DCSI 410\\DCSI_410_Prelim\\call_data_from_CAD.csv\"\n",
    "\n",
    "cad_table = pd.read_csv(cad_data)"
   ],
   "outputs": [],
   "execution_count": 2
  },
  {
   "metadata": {
    "ExecuteTime": {
     "end_time": "2024-05-24T00:37:50.539936Z",
     "start_time": "2024-05-24T00:37:50.533074Z"
    }
   },
   "cell_type": "code",
   "source": [
    "def filter_incidents(df: pd.DataFrame, column_name, incidents: list) -> pd.DataFrame:\n",
    "    for i in incidents:\n",
    "        df = df[df[column_name] != i]\n",
    "    return df"
   ],
   "id": "91fde2aa7b2c9f98",
   "outputs": [],
   "execution_count": 3
  },
  {
   "metadata": {
    "ExecuteTime": {
     "end_time": "2024-05-24T00:37:50.547053Z",
     "start_time": "2024-05-24T00:37:50.539936Z"
    }
   },
   "cell_type": "code",
   "source": [
    "excluded_dispositions = ['DISREGARD', 'DISREGARDED BY DISPATCH',\n",
    "                         'WILL CALL BACK', 'INFORMATION ONLY', 'UNABLE TO DISPATCH',\n",
    "                         'REFERRED TO OTHER AGENCY', 'DISREGARDED BY PATROL SUPERVISOR',\n",
    "                         'CALLER CALLED BACK', 'ACCIDENTALLY CHOSE NEW EVENT',\n",
    "                         'UNABLE TO LOCATE', 'QUALITY OF LIFE - NO DISPATCH',\n",
    "                         'RELAYED TO UNIVERSITY OF OREGON POLICE', 'FIX-IT TICKET',\n",
    "                         'RELAYED TO LANE COUNTY SHERIFFS OFFICE', 'CANCEL WHILE ENROUTE']"
   ],
   "id": "1dfc3fbcab169269",
   "outputs": [],
   "execution_count": 4
  },
  {
   "metadata": {
    "ExecuteTime": {
     "end_time": "2024-05-24T00:38:02.843972Z",
     "start_time": "2024-05-24T00:37:56.098166Z"
    }
   },
   "cell_type": "code",
   "source": [
    "cad_table[\"Call_Created_Time\"] = pd.to_datetime(cad_table[\"Call_Created_Time\"], format='%m/%d/%Y %H:%M:%S')\n",
    "cad_table.rename(columns={'Call_Created_Time': \"Call Time\"}, inplace=True)\n",
    "cad_relevant = cad_table[[\"Call Time\", \"PrimaryUnitCallSign\", \"RespondingUnitCallSign\", \"InitialIncidentTypeDescription\", \"Disposition\"]]\n",
    "cad_relevant = cad_relevant.dropna(subset =[\"InitialIncidentTypeDescription\"])\n",
    "cad_relevant = cad_relevant[~((cad_relevant['PrimaryUnitCallSign'].isna()) & (cad_relevant['RespondingUnitCallSign'].isna()))]\n",
    "clean_cad = cad_table[[\"Call Time\", \"PrimaryUnitCallSign\", \"InitialIncidentTypeDescription\", \"RespondingUnitCallSign\", \"Disposition\"]]\n",
    "clean_cad = clean_cad.rename(columns={\"PrimaryUnitCallSign\": \"Call Sign\", \"InitialIncidentTypeDescription\": \"Reason for Dispatch\", \"RespondingUnitCallSign\": \"2 Call Sign\"})\n",
    "clean_cad = clean_cad[[\"Call Time\", \"Reason for Dispatch\", \"Call Sign\", \"2 Call Sign\", \"Disposition\"]]\n",
    "\n",
    "clean_cad =  filter_incidents(clean_cad, \"Disposition\", excluded_dispositions)\n",
    "clean_cad.head(len(clean_cad))"
   ],
   "id": "71d9636c58e6f51b",
   "outputs": [
    {
     "data": {
      "text/plain": [
       "                  Call Time Reason for Dispatch Call Sign 2 Call Sign  \\\n",
       "0       2016-01-01 00:00:04             ASSAULT      5E57        5E57   \n",
       "1       2016-01-01 00:00:04             ASSAULT      5E57        4X40   \n",
       "2       2016-01-01 00:00:04             ASSAULT      5E57        4E53   \n",
       "3       2016-01-01 00:00:24        TRAFFIC STOP      5T81        5T81   \n",
       "4       2016-01-01 00:02:45       CHECK WELFARE      3X90        3F61   \n",
       "...                     ...                 ...       ...         ...   \n",
       "1616812 2023-12-31 22:44:38             DISPUTE      6E19        4K97   \n",
       "1616813 2023-12-31 22:44:38             DISPUTE      6E19        6E19   \n",
       "1616814 2023-12-31 22:44:38             DISPUTE      6E19        5X51   \n",
       "1616817 2023-12-31 22:56:40        TRAFFIC STOP      4F74        4F72   \n",
       "1616818 2023-12-31 22:56:40        TRAFFIC STOP      4F74        4F74   \n",
       "\n",
       "                             Disposition  \n",
       "0                                ADVISED  \n",
       "1                                ADVISED  \n",
       "2                                ADVISED  \n",
       "3                                ADVISED  \n",
       "4                               ASSISTED  \n",
       "...                                  ...  \n",
       "1616812                     REPORT TAKEN  \n",
       "1616813                     REPORT TAKEN  \n",
       "1616814                     REPORT TAKEN  \n",
       "1616817  UNIFORM TRAFFIC CITATION ISSUED  \n",
       "1616818  UNIFORM TRAFFIC CITATION ISSUED  \n",
       "\n",
       "[1267990 rows x 5 columns]"
      ],
      "text/html": [
       "<div>\n",
       "<style scoped>\n",
       "    .dataframe tbody tr th:only-of-type {\n",
       "        vertical-align: middle;\n",
       "    }\n",
       "\n",
       "    .dataframe tbody tr th {\n",
       "        vertical-align: top;\n",
       "    }\n",
       "\n",
       "    .dataframe thead th {\n",
       "        text-align: right;\n",
       "    }\n",
       "</style>\n",
       "<table border=\"1\" class=\"dataframe\">\n",
       "  <thead>\n",
       "    <tr style=\"text-align: right;\">\n",
       "      <th></th>\n",
       "      <th>Call Time</th>\n",
       "      <th>Reason for Dispatch</th>\n",
       "      <th>Call Sign</th>\n",
       "      <th>2 Call Sign</th>\n",
       "      <th>Disposition</th>\n",
       "    </tr>\n",
       "  </thead>\n",
       "  <tbody>\n",
       "    <tr>\n",
       "      <th>0</th>\n",
       "      <td>2016-01-01 00:00:04</td>\n",
       "      <td>ASSAULT</td>\n",
       "      <td>5E57</td>\n",
       "      <td>5E57</td>\n",
       "      <td>ADVISED</td>\n",
       "    </tr>\n",
       "    <tr>\n",
       "      <th>1</th>\n",
       "      <td>2016-01-01 00:00:04</td>\n",
       "      <td>ASSAULT</td>\n",
       "      <td>5E57</td>\n",
       "      <td>4X40</td>\n",
       "      <td>ADVISED</td>\n",
       "    </tr>\n",
       "    <tr>\n",
       "      <th>2</th>\n",
       "      <td>2016-01-01 00:00:04</td>\n",
       "      <td>ASSAULT</td>\n",
       "      <td>5E57</td>\n",
       "      <td>4E53</td>\n",
       "      <td>ADVISED</td>\n",
       "    </tr>\n",
       "    <tr>\n",
       "      <th>3</th>\n",
       "      <td>2016-01-01 00:00:24</td>\n",
       "      <td>TRAFFIC STOP</td>\n",
       "      <td>5T81</td>\n",
       "      <td>5T81</td>\n",
       "      <td>ADVISED</td>\n",
       "    </tr>\n",
       "    <tr>\n",
       "      <th>4</th>\n",
       "      <td>2016-01-01 00:02:45</td>\n",
       "      <td>CHECK WELFARE</td>\n",
       "      <td>3X90</td>\n",
       "      <td>3F61</td>\n",
       "      <td>ASSISTED</td>\n",
       "    </tr>\n",
       "    <tr>\n",
       "      <th>...</th>\n",
       "      <td>...</td>\n",
       "      <td>...</td>\n",
       "      <td>...</td>\n",
       "      <td>...</td>\n",
       "      <td>...</td>\n",
       "    </tr>\n",
       "    <tr>\n",
       "      <th>1616812</th>\n",
       "      <td>2023-12-31 22:44:38</td>\n",
       "      <td>DISPUTE</td>\n",
       "      <td>6E19</td>\n",
       "      <td>4K97</td>\n",
       "      <td>REPORT TAKEN</td>\n",
       "    </tr>\n",
       "    <tr>\n",
       "      <th>1616813</th>\n",
       "      <td>2023-12-31 22:44:38</td>\n",
       "      <td>DISPUTE</td>\n",
       "      <td>6E19</td>\n",
       "      <td>6E19</td>\n",
       "      <td>REPORT TAKEN</td>\n",
       "    </tr>\n",
       "    <tr>\n",
       "      <th>1616814</th>\n",
       "      <td>2023-12-31 22:44:38</td>\n",
       "      <td>DISPUTE</td>\n",
       "      <td>6E19</td>\n",
       "      <td>5X51</td>\n",
       "      <td>REPORT TAKEN</td>\n",
       "    </tr>\n",
       "    <tr>\n",
       "      <th>1616817</th>\n",
       "      <td>2023-12-31 22:56:40</td>\n",
       "      <td>TRAFFIC STOP</td>\n",
       "      <td>4F74</td>\n",
       "      <td>4F72</td>\n",
       "      <td>UNIFORM TRAFFIC CITATION ISSUED</td>\n",
       "    </tr>\n",
       "    <tr>\n",
       "      <th>1616818</th>\n",
       "      <td>2023-12-31 22:56:40</td>\n",
       "      <td>TRAFFIC STOP</td>\n",
       "      <td>4F74</td>\n",
       "      <td>4F74</td>\n",
       "      <td>UNIFORM TRAFFIC CITATION ISSUED</td>\n",
       "    </tr>\n",
       "  </tbody>\n",
       "</table>\n",
       "<p>1267990 rows × 5 columns</p>\n",
       "</div>"
      ]
     },
     "execution_count": 5,
     "metadata": {},
     "output_type": "execute_result"
    }
   ],
   "execution_count": 5
  },
  {
   "metadata": {
    "ExecuteTime": {
     "end_time": "2024-05-24T00:38:07.588160Z",
     "start_time": "2024-05-24T00:38:02.843972Z"
    }
   },
   "cell_type": "code",
   "source": "clean_cad.to_csv(\"clean_cad.csv\")",
   "id": "9f09743ce3328a2d",
   "outputs": [],
   "execution_count": 6
  },
  {
   "metadata": {},
   "cell_type": "code",
   "outputs": [],
   "execution_count": null,
   "source": "",
   "id": "69549580ac555b27"
  }
 ],
 "metadata": {
  "kernelspec": {
   "display_name": "Python 3",
   "language": "python",
   "name": "python3"
  },
  "language_info": {
   "codemirror_mode": {
    "name": "ipython",
    "version": 2
   },
   "file_extension": ".py",
   "mimetype": "text/x-python",
   "name": "python",
   "nbconvert_exporter": "python",
   "pygments_lexer": "ipython2",
   "version": "2.7.6"
  }
 },
 "nbformat": 4,
 "nbformat_minor": 5
}
