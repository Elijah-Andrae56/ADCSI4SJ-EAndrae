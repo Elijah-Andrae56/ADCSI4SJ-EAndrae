{
 "cells": [
  {
   "cell_type": "code",
   "id": "initial_id",
   "metadata": {
    "collapsed": true,
    "ExecuteTime": {
     "end_time": "2024-05-30T19:19:57.871342Z",
     "start_time": "2024-05-30T19:19:57.825427Z"
    }
   },
   "source": [
    "import pandas as pd\n",
    "import numpy as np\n",
    "import matplotlib.pyplot as plt\n",
    "import scipy.stats as stats\n",
    "from ipynb.fs.full.establishing_functions import call_sign_times, clean_data, calculate_counts, target_call_signs"
   ],
   "outputs": [],
   "execution_count": 27
  },
  {
   "metadata": {
    "ExecuteTime": {
     "end_time": "2024-05-30T19:19:58.295775Z",
     "start_time": "2024-05-30T19:19:58.282239Z"
    }
   },
   "cell_type": "code",
   "source": "# target_call_signs = [\"1J77\", \"3J78\", \"4J79\"]",
   "id": "28253f3c74754458",
   "outputs": [],
   "execution_count": 28
  },
  {
   "metadata": {
    "ExecuteTime": {
     "end_time": "2024-05-30T19:19:58.749451Z",
     "start_time": "2024-05-30T19:19:58.718334Z"
    }
   },
   "cell_type": "code",
   "source": [
    "time_ranges = [\n",
    "    (pd.Timestamp(call_sign_times['3J78']['First']), pd.Timestamp(call_sign_times['1J77']['First']), 'red'),\n",
    "    (pd.Timestamp(call_sign_times['1J77']['First']), pd.Timestamp(call_sign_times['4J79']['First']), 'blue'),\n",
    "    (pd.to_datetime('2016'), pd.to_datetime(\"2022-3-1\"), 'green')\n",
    "]\n",
    "\n"
   ],
   "id": "62ed9978c153552d",
   "outputs": [],
   "execution_count": 29
  },
  {
   "metadata": {
    "ExecuteTime": {
     "end_time": "2024-05-30T19:19:59.218509Z",
     "start_time": "2024-05-30T19:19:59.213101Z"
    }
   },
   "cell_type": "code",
   "source": [
    "# Function to assign colors based on time ranges\n",
    "def assign_color(call_time, ranges):\n",
    "    for start, end, color in ranges:\n",
    "        if start < call_time < end:\n",
    "            return color\n",
    "    return None  # Default color if no range is matched"
   ],
   "id": "ccdb93492bd277ae",
   "outputs": [],
   "execution_count": 30
  },
  {
   "metadata": {
    "ExecuteTime": {
     "end_time": "2024-05-30T02:49:25.345646Z",
     "start_time": "2024-05-30T02:49:20.456113Z"
    }
   },
   "cell_type": "code",
   "source": [
    "clean_data['Color'] = clean_data['Call Time'].apply(lambda x: assign_color(x, time_ranges)).dropna()\n",
    "\n",
    "shifts_1 = clean_data[clean_data[\"Color\"] == 'red']\n",
    "shifts_2 = clean_data[clean_data[\"Color\"] == 'blue']\n",
    "shifts_3 = clean_data[clean_data[\"Color\"] == 'green']"
   ],
   "id": "25d742ad26c39856",
   "outputs": [],
   "execution_count": 6
  },
  {
   "metadata": {
    "ExecuteTime": {
     "end_time": "2024-05-30T21:40:24.096576Z",
     "start_time": "2024-05-30T21:40:24.088872Z"
    }
   },
   "cell_type": "code",
   "source": [
    "def percentage_complete(i, k):\n",
    "    percentage = np.round(i / k * 100, 2)\n",
    "    if percentage % 5 == 0:\n",
    "        print(f'{percentage}% Complete')"
   ],
   "id": "a9cf540462473c0c",
   "outputs": [],
   "execution_count": 66
  },
  {
   "metadata": {
    "ExecuteTime": {
     "end_time": "2024-05-30T21:40:25.602243Z",
     "start_time": "2024-05-30T21:40:25.588348Z"
    }
   },
   "cell_type": "code",
   "source": [
    "def shuffled_percentages(table, n, k):\n",
    "    mean_list = []\n",
    "    for i in range(k):\n",
    "        shuffled_list = table.sample(n=n, replace=True).reset_index(drop=True)\n",
    "        count_table = calculate_counts(shuffled_list, target_call_signs)\n",
    "        mean_list += [count_table[\"Percentage\"].mean()]  \n",
    "        percentage_complete(i, k)\n",
    "    return mean_list"
   ],
   "id": "67a3f5806ad56767",
   "outputs": [],
   "execution_count": 67
  },
  {
   "metadata": {
    "jupyter": {
     "is_executing": true
    },
    "ExecuteTime": {
     "start_time": "2024-05-30T21:40:27.123205Z"
    }
   },
   "cell_type": "code",
   "source": [
    "values_drawn = 100000\n",
    "iterations = 5000\n",
    "\n",
    "means_1_shift = shuffled_percentages(shifts_1, values_drawn, iterations)\n",
    "means_2_shift = shuffled_percentages(shifts_2, values_drawn, iterations)\n",
    "means_3_shift = shuffled_percentages(shifts_3, values_drawn, iterations)"
   ],
   "id": "e7397ac7d30e2282",
   "outputs": [
    {
     "name": "stdout",
     "output_type": "stream",
     "text": [
      "0.0% Complete\n",
      "5.0% Complete\n",
      "10.0% Complete\n",
      "15.0% Complete\n",
      "20.0% Complete\n",
      "25.0% Complete\n",
      "30.0% Complete\n",
      "35.0% Complete\n",
      "40.0% Complete\n",
      "45.0% Complete\n",
      "50.0% Complete\n",
      "55.0% Complete\n",
      "60.0% Complete\n",
      "65.0% Complete\n",
      "70.0% Complete\n",
      "75.0% Complete\n",
      "80.0% Complete\n",
      "85.0% Complete\n",
      "90.0% Complete\n",
      "95.0% Complete\n",
      "0.0% Complete\n",
      "5.0% Complete\n",
      "10.0% Complete\n",
      "15.0% Complete\n",
      "20.0% Complete\n",
      "25.0% Complete\n",
      "30.0% Complete\n",
      "35.0% Complete\n",
      "40.0% Complete\n",
      "45.0% Complete\n"
     ]
    }
   ],
   "execution_count": null
  },
  {
   "metadata": {
    "jupyter": {
     "is_executing": true
    }
   },
   "cell_type": "code",
   "source": [
    "shifts = [means_1_shift, means_2_shift, means_3_shift]\n",
    "shift_names = [\"1 Shift\", \"2 Shifts\", \"3 Shifts\"]\n",
    "\n",
    "\n",
    "for shift, name in zip(shifts, shift_names):\n",
    "    # interval = confidence_interval(shift)\n",
    "    \n",
    "    plt.grid(True)\n",
    "    plt.hist(shift, bins=20)\n",
    "    plt.axvline(np.mean(shift), color='r', label = f\"Mean {name}: {round(np.mean(shift), 2)}\")\n",
    "    plt.title(name)\n",
    "    plt.legend(loc='upper right')\n",
    "    ax = plt.gca()\n",
    "    plt.ylabel(\"Frequency\")\n",
    "    plt.xlabel(f\"Cahoots Call Percentage w/ {name} active\")\n",
    "    # plt.grid(True)\n",
    "    plt.show()\n",
    "means_2_shift"
   ],
   "id": "3d697120e11e04e2",
   "outputs": [],
   "execution_count": null
  },
  {
   "metadata": {
    "ExecuteTime": {
     "end_time": "2024-05-30T19:45:19.105270Z",
     "start_time": "2024-05-30T19:45:19.099075Z"
    }
   },
   "cell_type": "code",
   "source": [
    "means_3_shift_low = [value for value in means_3_shift if value < 9.5]\n",
    "means_3_shift_high = [value for value in means_3_shift if value > 9.5]\n",
    "print(f'3 Shifts Low {round(np.average(means_3_shift_low), 2)} \\n'\n",
    "      f'3 Shifts High {round(np.average(means_3_shift_high), 2)}')"
   ],
   "id": "716d9c9d6e4abaf0",
   "outputs": [
    {
     "name": "stdout",
     "output_type": "stream",
     "text": [
      "3 Shifts Low 8.5 \n",
      "3 Shifts High 10.31\n"
     ]
    }
   ],
   "execution_count": 53
  }
 ],
 "metadata": {
  "kernelspec": {
   "display_name": "Python 3",
   "language": "python",
   "name": "python3"
  },
  "language_info": {
   "codemirror_mode": {
    "name": "ipython",
    "version": 2
   },
   "file_extension": ".py",
   "mimetype": "text/x-python",
   "name": "python",
   "nbconvert_exporter": "python",
   "pygments_lexer": "ipython2",
   "version": "2.7.6"
  }
 },
 "nbformat": 4,
 "nbformat_minor": 5
}
